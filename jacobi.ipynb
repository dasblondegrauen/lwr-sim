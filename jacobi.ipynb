{
 "cells": [
  {
   "cell_type": "code",
   "execution_count": 1,
   "metadata": {},
   "outputs": [],
   "source": [
    "import numpy as np\n",
    "import json"
   ]
  },
  {
   "cell_type": "code",
   "execution_count": 64,
   "metadata": {},
   "outputs": [
    {
     "data": {
      "text/plain": [
       "array([[ 0.   ,  0.   ,  0.12 ],\n",
       "       [ 0.   ,  0.   ,  0.32 ],\n",
       "       [-0.068,  0.   ,  0.509],\n",
       "       [-0.137,  0.   ,  0.696],\n",
       "       [-0.137,  0.2  ,  0.7  ],\n",
       "       [-0.137,  0.39 ,  0.7  ],\n",
       "       [-0.162,  0.463,  0.687]])"
      ]
     },
     "execution_count": 64,
     "metadata": {},
     "output_type": "execute_result"
    }
   ],
   "source": [
    "x = np.array([0, 0, -0.068, -0.137, -0.137, -0.137, -0.162])\n",
    "y = np.array([0, 0, 0, 0, 0.2, 0.39, 0.463])\n",
    "z = np.array([0.12, 0.32, 0.509, 0.696, 0.7, 0.7, 0.687])\n",
    "roll = np.array([0, 0, 0.349, 1.569, -1.57, -1.694, -1.694])\n",
    "pitch = np.array([0, -0.349, 0, -1.222, -0.348, -0.362, -0.326])\n",
    "yaw = np.array([0, 0, -1.571, -3.14, 0, 0.372, 0.372])\n",
    "\n",
    "axes = np.array([[0, 0, 1], [0, -1, 0], [0, 0, 1], [0, 1, 0], [0, 0, 1], [0, -1, 0], [0, 0, 1]])\n",
    "origins = np.array([x, y, z]).T\n",
    "angles_rpy = np.array([roll, pitch, yaw]).T\n",
    "\n",
    "origins"
   ]
  },
  {
   "cell_type": "code",
   "execution_count": 58,
   "metadata": {},
   "outputs": [],
   "source": [
    "def rotate(angles_rpy, vector):\n",
    "    gamma = angles_rpy[0]\n",
    "    beta = angles_rpy[1]\n",
    "    alpha = angles_rpy[2]\n",
    "    \n",
    "    sin = np.sin\n",
    "    cos = np.cos\n",
    "    \n",
    "    a = np.array([[cos(alpha)*cos(beta), cos(alpha)*sin(beta)*sin(gamma) - sin(alpha)*cos(gamma), cos(alpha)*sin(beta)*cos(gamma) + sin(alpha)*sin(gamma)],\n",
    "                 [sin(alpha)*cos(beta), sin(alpha)*sin(beta)*sin(gamma) + cos(alpha)*cos(gamma), sin(alpha)*sin(beta)*cos(gamma) - cos(alpha)*sin(gamma)],\n",
    "                 [-sin(beta), cos(beta)*sin(gamma), cos(beta)*cos(gamma)]])\n",
    "    \n",
    "    b = a.dot(vector / np.linalg.norm(vector))\n",
    "    \n",
    "    return b / np.linalg.norm(b)\n",
    "\n",
    "\n",
    "def build_jacobian(origins, angles_rpy, axes, offset=0):\n",
    "    j0 = np.concatenate([np.cross([0, 0, 1], origins[offset]), [0, 0, 1]])\n",
    "    j = np.array([np.concatenate([np.cross(rotate(angles_rpy[i], axes[i]), origin - origins[i]), rotate(angles_rpy[i], axes[i])]) for i, origin in enumerate(origins[offset+1:])])\n",
    "\n",
    "    return np.concatenate([[j0], j]).T"
   ]
  },
  {
   "cell_type": "code",
   "execution_count": 59,
   "metadata": {},
   "outputs": [
    {
     "name": "stdout",
     "output_type": "stream",
     "text": [
      "[[ 0.000e+00  0.000e+00 -3.760e-01 -1.879e-01 -1.333e-01 -1.320e-02]\n",
      " [ 0.000e+00 -6.800e-02 -0.000e+00  4.737e-04 -3.759e-03 -2.225e-05]\n",
      " [ 0.000e+00  0.000e+00 -1.370e-01 -6.839e-02  3.665e-01  2.493e-02]\n",
      " [ 0.000e+00  0.000e+00  0.000e+00 -3.420e-01  9.398e-01 -2.716e-04]\n",
      " [ 0.000e+00  0.000e+00 -1.000e+00  6.965e-05 -2.996e-04  1.000e+00]\n",
      " [ 1.000e+00  1.000e+00  0.000e+00  9.397e-01  3.418e-01  7.486e-04]]\n"
     ]
    }
   ],
   "source": [
    "jacobian = build_jacobian(origins, angles_rpy, axes, offset=1)\n",
    "\n",
    "np.set_printoptions(precision=3, linewidth=120)\n",
    "print(jacobian)"
   ]
  },
  {
   "cell_type": "code",
   "execution_count": 60,
   "metadata": {},
   "outputs": [
    {
     "name": "stdout",
     "output_type": "stream",
     "text": [
      "[[ 2.274e+00  1.471e+01 -7.900e+00  3.099e+00  2.274e-01  1.000e+00]\n",
      " [ 2.887e-02 -1.471e+01 -9.731e-02 -1.678e-02  2.475e-03 -0.000e+00]\n",
      " [-1.255e+00 -0.000e+00 -4.567e+00  1.603e+00  9.773e-02 -0.000e+00]\n",
      " [-2.163e+00 -0.000e+00  7.519e+00 -3.239e+00 -2.169e-01 -0.000e+00]\n",
      " [-7.874e-01 -0.000e+00  2.735e+00 -1.142e-01 -7.860e-02 -0.000e+00]\n",
      " [-1.255e+00 -0.000e+00 -4.567e+00  1.604e+00  1.098e+00 -0.000e+00]]\n"
     ]
    }
   ],
   "source": [
    "jacobian_inv = np.linalg.inv(jacobian)\n",
    "print(jacobian_inv)"
   ]
  },
  {
   "cell_type": "code",
   "execution_count": 61,
   "metadata": {},
   "outputs": [
    {
     "name": "stdout",
     "output_type": "stream",
     "text": [
      "Force vector: [-0.324  0.939 -0.116  0.     0.     0.   ]\n",
      "Joint torques: [ 13.989 -13.805   0.939  -0.174  -0.063   0.939]\n"
     ]
    }
   ],
   "source": [
    "force = np.concatenate([rotate(angles_rpy[-1], [0, 0, 1]), [0, 0, 0]])\n",
    "torque = jacobian_inv.dot(force)\n",
    "\n",
    "print('Force vector: {}'.format(force))\n",
    "print('Joint torques: {}'.format(torque))"
   ]
  },
  {
   "cell_type": "code",
   "execution_count": 54,
   "metadata": {},
   "outputs": [
    {
     "data": {
      "text/plain": [
       "-0.12320367320510339"
      ]
     },
     "execution_count": 54,
     "metadata": {},
     "output_type": "execute_result"
    }
   ],
   "source": [
    "-1.694 + 0.5 * np.pi"
   ]
  },
  {
   "cell_type": "code",
   "execution_count": null,
   "metadata": {},
   "outputs": [],
   "source": []
  }
 ],
 "metadata": {
  "kernelspec": {
   "display_name": "Python 3",
   "language": "python",
   "name": "python3"
  },
  "language_info": {
   "codemirror_mode": {
    "name": "ipython",
    "version": 3
   },
   "file_extension": ".py",
   "mimetype": "text/x-python",
   "name": "python",
   "nbconvert_exporter": "python",
   "pygments_lexer": "ipython3",
   "version": "3.5.2"
  }
 },
 "nbformat": 4,
 "nbformat_minor": 2
}
