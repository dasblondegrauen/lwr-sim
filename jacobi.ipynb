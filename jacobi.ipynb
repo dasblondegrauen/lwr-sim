{
 "cells": [
  {
   "cell_type": "code",
   "execution_count": 1,
   "metadata": {},
   "outputs": [],
   "source": [
    "import numpy as np\n",
    "import json"
   ]
  },
  {
   "cell_type": "code",
   "execution_count": 2,
   "metadata": {},
   "outputs": [],
   "source": [
    "x = np.array([0, 0, -0.068, -0.137, -0.137, -0.137, -0.162])\n",
    "y = np.array([0, 0, 0, 0, 0.2, 0.39, 0.463])\n",
    "z = np.array([0.12, 0.32, 0.509, 0.696, 0.7, 0.7, 0.687])\n",
    "roll = np.array([0, 0, 0.349, 1.569, -1.57, -1.694, -1.694])\n",
    "pitch = np.array([0, -0.349, 0, -1.222, -0.348, -0.362, -0.326])\n",
    "yaw = np.array([0, 0, -1.571, -3.14, 0, 0.372, 0.372])\n",
    "\n",
    "origins = np.array([x, y, z]).T\n",
    "angles_rpy = np.array([roll, pitch, yaw]).T"
   ]
  },
  {
   "cell_type": "code",
   "execution_count": 17,
   "metadata": {},
   "outputs": [],
   "source": [
    "def rotate_z(angles_rpy):\n",
    "    gamma = angles_rpy[0]\n",
    "    beta = angles_rpy[1]\n",
    "    alpha = angles_rpy[2]\n",
    "    \n",
    "    sin = np.sin\n",
    "    cos = np.cos\n",
    "    \n",
    "    z = np.array([cos(alpha)*sin(beta)*cos(gamma) + sin(alpha)*sin(gamma),\n",
    "                 sin(alpha)*sin(beta)*cos(gamma) - cos(alpha)*sin(gamma),\n",
    "                 cos(beta)*cos(gamma)])\n",
    "    \n",
    "    return z / np.linalg.norm(z)\n",
    "\n",
    "\n",
    "def build_jacobian(origins, angles_rpy):\n",
    "    j0 = np.concatenate([np.cross([0, 0, 1], origins[0]), [0, 0, 1]])\n",
    "    j = np.array([np.concatenate([np.cross(rotate_z(angles_rpy[i]), origin - origins[i]), rotate_z(angles_rpy[i])]) for i, origin in enumerate(origins[1:])])\n",
    "    \n",
    "    return np.concatenate([[j0], j]).T"
   ]
  },
  {
   "cell_type": "code",
   "execution_count": 18,
   "metadata": {},
   "outputs": [
    {
     "name": "stdout",
     "output_type": "stream",
     "text": [
      "[[ 0.000e+00  0.000e+00 -0.000e+00  1.302e-05  3.877e-03 -1.422e-04 -3.835e-03]\n",
      " [ 0.000e+00  0.000e+00  7.295e-04 -8.942e-04 -3.820e-07  0.000e+00 -1.289e-03]\n",
      " [ 0.000e+00  0.000e+00 -0.000e+00  4.806e-06  1.910e-05 -5.160e-05  1.359e-04]\n",
      " [ 0.000e+00  0.000e+00 -3.420e-01 -3.420e-01  9.551e-05 -2.716e-04 -3.202e-01]\n",
      " [ 0.000e+00  0.000e+00 -0.000e+00  6.965e-05  1.000e+00  1.000e+00  9.404e-01]\n",
      " [ 1.000e+00  1.000e+00  9.397e-01  9.397e-01  6.139e-04  7.486e-04 -1.149e-01]]\n"
     ]
    }
   ],
   "source": [
    "jacobian = build_jacobian(origins, angles_rpy)\n",
    "\n",
    "np.set_printoptions(precision=3, linewidth=120)\n",
    "print(jacobian)"
   ]
  },
  {
   "cell_type": "code",
   "execution_count": 5,
   "metadata": {},
   "outputs": [
    {
     "name": "stdout",
     "output_type": "stream",
     "text": [
      "[[-7.188e+01  1.149e+01  4.074e+03  2.773e+00  2.000e-01  1.000e+00]\n",
      " [-1.995e+01  6.191e+02  1.146e+03 -1.604e+00  5.584e-02 -0.000e+00]\n",
      " [ 8.759e+01 -6.299e+02 -4.976e+03 -1.344e+00 -2.447e-01 -0.000e+00]\n",
      " [ 1.821e+02  1.269e+01  3.790e+03  2.707e-02  2.215e-01  0.000e+00]\n",
      " [-1.143e+02 -2.352e+01 -7.644e+03 -5.017e-02  5.893e-01 -0.000e+00]\n",
      " [-7.210e+01  1.156e+01  4.099e+03  2.467e-02  2.012e-01  0.000e+00]]\n"
     ]
    }
   ],
   "source": [
    "jacobian_inv = np.linalg.inv(jacobian[:,1:])\n",
    "print(jacobian_inv)"
   ]
  },
  {
   "cell_type": "code",
   "execution_count": 26,
   "metadata": {},
   "outputs": [
    {
     "data": {
      "text/plain": [
       "array([-440.234,  454.353,  -40.453, -488.387,  904.938, -442.966])"
      ]
     },
     "execution_count": 26,
     "metadata": {},
     "output_type": "execute_result"
    }
   ],
   "source": [
    "force = np.concatenate([rotate_z(angles_rpy[-1]), [0, 0, 0]])\n",
    "jacobian_inv.dot(force)"
   ]
  },
  {
   "cell_type": "code",
   "execution_count": null,
   "metadata": {},
   "outputs": [],
   "source": []
  }
 ],
 "metadata": {
  "kernelspec": {
   "display_name": "Python 3",
   "language": "python",
   "name": "python3"
  },
  "language_info": {
   "codemirror_mode": {
    "name": "ipython",
    "version": 3
   },
   "file_extension": ".py",
   "mimetype": "text/x-python",
   "name": "python",
   "nbconvert_exporter": "python",
   "pygments_lexer": "ipython3",
   "version": "3.5.3"
  }
 },
 "nbformat": 4,
 "nbformat_minor": 2
}
