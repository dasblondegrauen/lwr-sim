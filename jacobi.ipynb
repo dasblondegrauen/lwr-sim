{
 "cells": [
  {
   "cell_type": "code",
   "execution_count": 2,
   "metadata": {},
   "outputs": [],
   "source": [
    "import numpy as np"
   ]
  },
  {
   "cell_type": "code",
   "execution_count": 56,
   "metadata": {},
   "outputs": [],
   "source": [
    "x = np.array([0, 0, -0.068, -0.137, -0.137, -0.137, -0.162])\n",
    "y = np.array([0, 0, 0, 0, 0.2, 0.39, 0.463])\n",
    "z = np.array([0.12, 0.32, 0.509, 0.696, 0.7, 0.7, 0.687])\n",
    "roll = np.array([0, 0, 0.349, 1.569, -1.57, -1.694, -1.694])\n",
    "pitch = np.array([0, -0.349, 0, -1.222, -0.348, -0.362, -0.326])\n",
    "yaw = np.array([0, 0, -1.571, -3.14, 0, 0.372, 0.372])\n",
    "\n",
    "axes = np.array([[0, 0, 1], [0, -1, 0], [0, 0, 1], [0, 1, 0], [0, 0, 1], [0, -1, 0], [0, 0, 1]])\n",
    "origins = np.array([x, y, z]).T\n",
    "angles_rpy = np.array([roll, pitch, yaw]).T"
   ]
  },
  {
   "cell_type": "code",
   "execution_count": 57,
   "metadata": {},
   "outputs": [],
   "source": [
    "def rotate(angles_rpy, vector):\n",
    "    gamma = angles_rpy[0]\n",
    "    beta = angles_rpy[1]\n",
    "    alpha = angles_rpy[2]\n",
    "    b = vector / np.linalg.norm(vector)\n",
    "    \n",
    "    sin = np.sin\n",
    "    cos = np.cos\n",
    "    \n",
    "    a = np.array([[cos(alpha)*cos(beta), cos(alpha)*sin(beta)*sin(gamma) - sin(alpha)*cos(gamma), cos(alpha)*sin(beta)*cos(gamma) + sin(alpha)*sin(gamma)],\n",
    "                 [sin(alpha)*cos(beta), sin(alpha)*sin(beta)*sin(gamma) + cos(alpha)*cos(gamma), sin(alpha)*sin(beta)*cos(gamma) - cos(alpha)*sin(gamma)],\n",
    "                 [-sin(beta), cos(beta)*sin(gamma), cos(beta)*cos(gamma)]])\n",
    "    \n",
    "    c = a.dot(b)\n",
    "    \n",
    "    return c / np.linalg.norm(c)\n",
    "\n",
    "\n",
    "def build_jacobian(origins, angles_rpy, axes, endeffector=origins[-1], offset=0):\n",
    "    j = np.array([np.concatenate([np.cross(rotate(angle, axis), endeffector - origin), rotate(angle, axis)])\n",
    "                  for origin, angle, axis in zip(origins[offset:], angles_rpy[offset:], axes[offset:])])\n",
    "    \n",
    "    return j.T"
   ]
  },
  {
   "cell_type": "code",
   "execution_count": 58,
   "metadata": {},
   "outputs": [
    {
     "name": "stdout",
     "output_type": "stream",
     "text": [
      "[[-4.630e-01 -3.670e-01 -4.351e-01 -1.582e-01 -1.320e-02 -6.758e-02  0.000e+00]\n",
      " [-1.620e-01 -0.000e+00 -2.746e-02 -8.609e-05 -2.225e-05 -2.804e-02  0.000e+00]\n",
      " [ 0.000e+00 -1.620e-01 -1.583e-01  4.351e-01  2.493e-02 -2.749e-02 -0.000e+00]\n",
      " [ 0.000e+00  0.000e+00 -3.420e-01  9.398e-01 -2.716e-04 -3.721e-01 -3.241e-01]\n",
      " [ 0.000e+00 -1.000e+00  6.965e-05 -2.996e-04  1.000e+00 -1.326e-02  9.388e-01]\n",
      " [ 1.000e+00  0.000e+00  9.397e-01  3.418e-01  7.486e-04  9.281e-01 -1.164e-01]]\n"
     ]
    }
   ],
   "source": [
    "jacobian = build_jacobian(origins, angles_rpy, axes)\n",
    "\n",
    "np.set_printoptions(precision=3, linewidth=120)\n",
    "print(jacobian)"
   ]
  },
  {
   "cell_type": "code",
   "execution_count": 60,
   "metadata": {},
   "outputs": [
    {
     "name": "stdout",
     "output_type": "stream",
     "text": [
      "Force vector: [-0.324  0.939 -0.116  0.     0.     0.   ]\n",
      "Joint torques: [-0.002  0.138  0.134  0.001  0.001 -0.001  0.   ]\n"
     ]
    }
   ],
   "source": [
    "force = np.concatenate([rotate(angles_rpy[-1], [0, 0, 1]), [0, 0, 0]])\n",
    "torque = jacobian.T.dot(force)\n",
    "\n",
    "print('Force vector: {}'.format(force))\n",
    "print('Joint torques: {}'.format(torque))"
   ]
  },
  {
   "cell_type": "code",
   "execution_count": 62,
   "metadata": {},
   "outputs": [
    {
     "data": {
      "text/plain": [
       "array([ 0.   , -0.162, -0.158,  0.435,  0.025, -0.027,  0.   ])"
      ]
     },
     "execution_count": 62,
     "metadata": {},
     "output_type": "execute_result"
    }
   ],
   "source": [
    "# Hand to base transformation\n",
    "ee = np.array([rotate(angles_rpy[-1], axis) for axis in ([1, 0, 0], [0, 1, 0], [0, 0, 1])])\n",
    "htb = np.zeros((6, 6))\n",
    "htb[0:3,0:3] = htb[3:,3:] = np.linalg.inv(ee)\n",
    "jacobian_htb = htb.dot(jacobian)\n",
    "torque = jacobian.T.dot(np.array([0, 0, 1, 0, 0, 0]))\n",
    "\n",
    "torque"
   ]
  },
  {
   "cell_type": "code",
   "execution_count": null,
   "metadata": {},
   "outputs": [],
   "source": []
  }
 ],
 "metadata": {
  "kernelspec": {
   "display_name": "Python 3",
   "language": "python",
   "name": "python3"
  },
  "language_info": {
   "codemirror_mode": {
    "name": "ipython",
    "version": 3
   },
   "file_extension": ".py",
   "mimetype": "text/x-python",
   "name": "python",
   "nbconvert_exporter": "python",
   "pygments_lexer": "ipython3",
   "version": "3.5.3"
  }
 },
 "nbformat": 4,
 "nbformat_minor": 2
}
