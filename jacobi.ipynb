{
 "cells": [
  {
   "cell_type": "code",
   "execution_count": null,
   "metadata": {},
   "outputs": [],
   "source": [
    "import numpy as np"
   ]
  },
  {
   "cell_type": "code",
   "execution_count": null,
   "metadata": {},
   "outputs": [],
   "source": [
    "x = np.array([0, 0, -0.068, -0.137, -0.137, -0.137, -0.162])\n",
    "y = np.array([0, 0, 0, 0, 0.2, 0.39, 0.463])\n",
    "z = np.array([0.12, 0.32, 0.509, 0.696, 0.7, 0.7, 0.687])\n",
    "roll = np.array([0, 0, 0.349, 1.569, -1.57, -1.694, -1.694])\n",
    "pitch = np.array([0, -0.349, 0, -1.222, -0.348, -0.362, -0.326])\n",
    "yaw = np.array([0, 0, -1.571, -3.14, 0, 0.372, 0.372])\n",
    "\n",
    "axes = np.array([[0, 0, 1], [0, -1, 0], [0, 0, 1], [0, 1, 0], [0, 0, 1], [0, -1, 0], [0, 0, 1]])\n",
    "origins = np.array([x, y, z]).T\n",
    "angles_rpy = np.array([roll, pitch, yaw]).T"
   ]
  },
  {
   "cell_type": "code",
   "execution_count": null,
   "metadata": {},
   "outputs": [],
   "source": [
    "def rotate(angles_rpy, vector):\n",
    "    gamma = angles_rpy[0]\n",
    "    beta = angles_rpy[1]\n",
    "    alpha = angles_rpy[2]\n",
    "    b = vector / np.linalg.norm(vector)\n",
    "    \n",
    "    sin = np.sin\n",
    "    cos = np.cos\n",
    "    \n",
    "    a = np.array([[cos(alpha)*cos(beta), cos(alpha)*sin(beta)*sin(gamma) - sin(alpha)*cos(gamma), cos(alpha)*sin(beta)*cos(gamma) + sin(alpha)*sin(gamma)],\n",
    "                 [sin(alpha)*cos(beta), sin(alpha)*sin(beta)*sin(gamma) + cos(alpha)*cos(gamma), sin(alpha)*sin(beta)*cos(gamma) - cos(alpha)*sin(gamma)],\n",
    "                 [-sin(beta), cos(beta)*sin(gamma), cos(beta)*cos(gamma)]])\n",
    "    \n",
    "    c = a.dot(b)\n",
    "    \n",
    "    return c / np.linalg.norm(c)\n",
    "\n",
    "\n",
    "def build_jacobian(origins, angles_rpy, axes, endeffector=origins[-1], offset=0):\n",
    "    j = np.array([np.concatenate([np.cross(rotate(angle, axis), endeffector - origin), rotate(angle, axis)])\n",
    "                  for origin, angle, axis in zip(origins[offset:], angles_rpy[offset:], axes[offset:])])\n",
    "    \n",
    "    return j.T"
   ]
  },
  {
   "cell_type": "code",
   "execution_count": null,
   "metadata": {},
   "outputs": [],
   "source": [
    "jacobian = build_jacobian(origins, angles_rpy, axes)\n",
    "\n",
    "np.set_printoptions(precision=3, linewidth=120)\n",
    "print(jacobian)"
   ]
  },
  {
   "cell_type": "code",
   "execution_count": null,
   "metadata": {},
   "outputs": [],
   "source": [
    "force = np.concatenate([rotate(angles_rpy[-1], [0, 0, 1]), [0, 0, 0]])\n",
    "torque = jacobian.T.dot(force)\n",
    "\n",
    "print('Force vector: {}'.format(force))\n",
    "print('Joint torques: {}'.format(torque))"
   ]
  },
  {
   "cell_type": "code",
   "execution_count": null,
   "metadata": {},
   "outputs": [],
   "source": [
    "# Hand to base transformation\n",
    "ee = np.array([rotate(angles_rpy[-1], axis) for axis in ([1, 0, 0], [0, 1, 0], [0, 0, 1])])\n",
    "htb = np.zeros((6, 6))\n",
    "htb[0:3,0:3] = htb[3:,3:] = np.linalg.inv(ee)\n",
    "jacobian_htb = np.matmul(htb, jacobian)\n",
    "torque = np.matmul(jacobian_htb.T, np.array([0, 0, 1, 0, 0, 0]))\n",
    "\n",
    "print('Joint torques: {}'.format(torque))"
   ]
  },
  {
   "cell_type": "code",
   "execution_count": null,
   "metadata": {},
   "outputs": [],
   "source": [
    "joints_deg = np.array([60.98, 119.42, -81.44, 80.38, 50.09, -151.34, -103.95])\n",
    "joints_rad = np.pi / 180 * joints_deg\n",
    "\n",
    "print('Joint angles: {}'.format(joints_rad))"
   ]
  },
  {
   "cell_type": "code",
   "execution_count": null,
   "metadata": {},
   "outputs": [],
   "source": []
  }
 ],
 "metadata": {
  "kernelspec": {
   "display_name": "Python 3",
   "language": "python",
   "name": "python3"
  },
  "language_info": {
   "codemirror_mode": {
    "name": "ipython",
    "version": 3
   },
   "file_extension": ".py",
   "mimetype": "text/x-python",
   "name": "python",
   "nbconvert_exporter": "python",
   "pygments_lexer": "ipython3",
   "version": "3.5.3"
  },
  "varInspector": {
   "cols": {
    "lenName": 16,
    "lenType": 16,
    "lenVar": 40
   },
   "kernels_config": {
    "python": {
     "delete_cmd_postfix": "",
     "delete_cmd_prefix": "del ",
     "library": "var_list.py",
     "varRefreshCmd": "print(var_dic_list())"
    },
    "r": {
     "delete_cmd_postfix": ") ",
     "delete_cmd_prefix": "rm(",
     "library": "var_list.r",
     "varRefreshCmd": "cat(var_dic_list()) "
    }
   },
   "types_to_exclude": [
    "module",
    "function",
    "builtin_function_or_method",
    "instance",
    "_Feature"
   ],
   "window_display": false
  }
 },
 "nbformat": 4,
 "nbformat_minor": 2
}
