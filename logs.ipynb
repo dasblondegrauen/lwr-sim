{
 "cells": [
  {
   "cell_type": "code",
   "execution_count": null,
   "metadata": {},
   "outputs": [],
   "source": [
    "import numpy as np\n",
    "import pandas as pd\n",
    "import matplotlib.pyplot as plt"
   ]
  },
  {
   "cell_type": "code",
   "execution_count": null,
   "metadata": {},
   "outputs": [],
   "source": [
    "def init_plot():\n",
    "    fig, ax = plt.subplots(3, 1, sharex=True)\n",
    "    fig.set_size_inches(24, 24)\n",
    "        \n",
    "    for a in ax:\n",
    "        a.grid()\n",
    "        a.set_xlabel('Time [s]')\n",
    "        a.set_xlim([0, 130])\n",
    "        \n",
    "    ax[0].set_ylabel('Total joint torque [Nm]')\n",
    "    ax[1].set_ylabel('Total joint velocity [deg/s]')\n",
    "    ax[2].set_ylabel('Total joint excitation [deg]')\n",
    "\n",
    "    return fig, ax\n",
    "    \n",
    "\n",
    "def plot_report(filename):\n",
    "    report = pd.read_csv(filename, delim_whitespace=True)\n",
    "    \n",
    "    torque = report.iloc[:,15:].T.abs().sum()\n",
    "    velocity = report.iloc[:,8:15].T.abs().sum() / np.pi * 180\n",
    "    excitation = report.iloc[:,1:8].T.abs().sum() / np.pi * 180\n",
    "    time = report.TimeStamp\n",
    "    \n",
    "    ax[0].plot(time, torque, label=filename)\n",
    "    ax[0].legend()\n",
    "    #ax[0].set_ylim(ymax=10)\n",
    "    ax[1].plot(time, velocity)\n",
    "    ax[2].plot(time, excitation)"
   ]
  },
  {
   "cell_type": "code",
   "execution_count": null,
   "metadata": {},
   "outputs": [],
   "source": [
    "fig, ax = init_plot()\n",
    "plot_report('logs/reference.dat') # Reference without any support; lower chain PID controlled\n",
    "plot_report('logs/support_01.dat') # PID control disabled around 1:30; manipulator slides away\n",
    "plot_report('logs/support_02.dat') # Support plate removed around 1:30; manipulator stays in place"
   ]
  },
  {
   "cell_type": "code",
   "execution_count": null,
   "metadata": {},
   "outputs": [],
   "source": []
  }
 ],
 "metadata": {
  "kernelspec": {
   "display_name": "Python 3",
   "language": "python",
   "name": "python3"
  },
  "language_info": {
   "codemirror_mode": {
    "name": "ipython",
    "version": 3
   },
   "file_extension": ".py",
   "mimetype": "text/x-python",
   "name": "python",
   "nbconvert_exporter": "python",
   "pygments_lexer": "ipython3",
   "version": "3.5.3"
  },
  "varInspector": {
   "cols": {
    "lenName": 16,
    "lenType": 16,
    "lenVar": 40
   },
   "kernels_config": {
    "python": {
     "delete_cmd_postfix": "",
     "delete_cmd_prefix": "del ",
     "library": "var_list.py",
     "varRefreshCmd": "print(var_dic_list())"
    },
    "r": {
     "delete_cmd_postfix": ") ",
     "delete_cmd_prefix": "rm(",
     "library": "var_list.r",
     "varRefreshCmd": "cat(var_dic_list()) "
    }
   },
   "types_to_exclude": [
    "module",
    "function",
    "builtin_function_or_method",
    "instance",
    "_Feature"
   ],
   "window_display": false
  }
 },
 "nbformat": 4,
 "nbformat_minor": 2
}
