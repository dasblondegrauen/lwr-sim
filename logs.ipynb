{
 "cells": [
  {
   "cell_type": "code",
   "execution_count": 1,
   "metadata": {},
   "outputs": [],
   "source": [
    "import numpy as np\n",
    "import pandas as pd\n",
    "import matplotlib.pyplot as plt"
   ]
  },
  {
   "cell_type": "code",
   "execution_count": 12,
   "metadata": {},
   "outputs": [
    {
     "data": {
      "text/plain": [
       "Index(['TimeStamp', 'lwr.full_arm_JointFeedback.angles.0',\n",
       "       'lwr.full_arm_JointFeedback.angles.1',\n",
       "       'lwr.full_arm_JointFeedback.angles.2',\n",
       "       'lwr.full_arm_JointFeedback.angles.3',\n",
       "       'lwr.full_arm_JointFeedback.angles.4',\n",
       "       'lwr.full_arm_JointFeedback.angles.5',\n",
       "       'lwr.full_arm_JointFeedback.angles.6',\n",
       "       'lwr.full_arm_JointFeedback.velocities.0',\n",
       "       'lwr.full_arm_JointFeedback.velocities.1',\n",
       "       'lwr.full_arm_JointFeedback.velocities.2',\n",
       "       'lwr.full_arm_JointFeedback.velocities.3',\n",
       "       'lwr.full_arm_JointFeedback.velocities.4',\n",
       "       'lwr.full_arm_JointFeedback.velocities.5',\n",
       "       'lwr.full_arm_JointFeedback.velocities.6',\n",
       "       'lwr.full_arm_JointFeedback.torques.0',\n",
       "       'lwr.full_arm_JointFeedback.torques.1',\n",
       "       'lwr.full_arm_JointFeedback.torques.2',\n",
       "       'lwr.full_arm_JointFeedback.torques.3',\n",
       "       'lwr.full_arm_JointFeedback.torques.4',\n",
       "       'lwr.full_arm_JointFeedback.torques.5',\n",
       "       'lwr.full_arm_JointFeedback.torques.6'],\n",
       "      dtype='object')"
      ]
     },
     "execution_count": 12,
     "metadata": {},
     "output_type": "execute_result"
    }
   ],
   "source": [
    "log = pd.read_csv('reports.dat', delim_whitespace=True)\n",
    "log.columns"
   ]
  },
  {
   "cell_type": "code",
   "execution_count": null,
   "metadata": {},
   "outputs": [],
   "source": []
  }
 ],
 "metadata": {
  "kernelspec": {
   "display_name": "Python 3",
   "language": "python",
   "name": "python3"
  },
  "language_info": {
   "codemirror_mode": {
    "name": "ipython",
    "version": 3
   },
   "file_extension": ".py",
   "mimetype": "text/x-python",
   "name": "python",
   "nbconvert_exporter": "python",
   "pygments_lexer": "ipython3",
   "version": "3.5.2"
  }
 },
 "nbformat": 4,
 "nbformat_minor": 2
}
